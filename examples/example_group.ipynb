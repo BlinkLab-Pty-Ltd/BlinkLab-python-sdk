{
 "cells": [
  {
   "metadata": {},
   "cell_type": "code",
   "source": [
    "import pandas as pd\n",
    "import blinklab_python_sdk.functions as sdk\n",
    "import numpy as np\n",
    "import matplotlib.pyplot as plt\n",
    "import warnings\n",
    "warnings.filterwarnings('ignore')"
   ],
   "id": "13bec28d2230f37b",
   "outputs": [],
   "execution_count": null
  },
  {
   "metadata": {},
   "cell_type": "code",
   "source": [
    "def convert_string_to_array(string):\n",
    "    return np.fromstring(string.strip(\"[]\"), sep=',')\n",
    "\n",
    "\n",
    "def build_x_trace(length: int):\n",
    "    MS_PER_FRAME = 1 / 60 * 1000  # milliseconds per frame\n",
    "    return np.arange(0, length * MS_PER_FRAME, MS_PER_FRAME)\n",
    "\n",
    "\n",
    "def plot_median(data, y_column, split_by, y_min=-0.1, y_max=1):\n",
    "    plt.figure(figsize=(20, 4))\n",
    "    plt.ylim(y_min, y_max)\n",
    "    plt.title(y_column)\n",
    "    plot_df = data.copy()\n",
    "    plot_df = plot_df.dropna(subset=[y_column])\n",
    "    plot_df[y_column] = plot_df[y_column].apply(convert_string_to_array)\n",
    "\n",
    "    max_length = max(plot_df[y_column].apply(len))\n",
    "    x_trace = build_x_trace(max_length)\n",
    "\n",
    "    for unique_value, unique_df in plot_df.groupby(split_by):\n",
    "        if not unique_df.empty:\n",
    "            padded_arrays = []\n",
    "            for array in unique_df[y_column]:\n",
    "                padding = max_length - len(array)\n",
    "                padded_array = np.pad(array, (0, padding), 'constant', constant_values=np.NaN)\n",
    "                padded_arrays.append(padded_array)\n",
    "\n",
    "            label = unique_df['label'].iloc[0]\n",
    "            stacked = np.stack(padded_arrays)\n",
    "            median_values = np.nanmedian(stacked, axis=0)\n",
    "            mean_values = np.nanmean(stacked, axis=0)\n",
    "\n",
    "            for eye_trace in padded_arrays:\n",
    "                plt.plot(x_trace, eye_trace, color='lightgray', alpha=0.6)\n",
    "\n",
    "            plt.plot(x_trace, median_values, label=f'Median {label}', linewidth=2)\n",
    "            # plt.plot(x_trace, mean_values, label=f'Mean {label}', linewidth=2)\n",
    "\n",
    "    plt.legend()\n",
    "    plt.show()"
   ],
   "id": "f396707dff48e67",
   "outputs": [],
   "execution_count": null
  },
  {
   "metadata": {},
   "cell_type": "code",
   "source": [
    "target = \"has_adhd\"\n",
    "\n",
    "metadata = pd.read_csv(\"data/group/metadata.csv\")[[\"experiment_result_id\", \"diagnosis_label\", \"experiment_id\"]]\n",
    "\n",
    "traces = pd.read_csv(\"data/group/overview_traces.csv\")\n",
    "traces['label'] = traces['proto_trial_content'].apply(sdk.make_label)\n",
    "\n",
    "# drop entries where diagnosis_label string does not contain 'ADHD' or 'Neurotypical'\n",
    "metadata = metadata[metadata[\"diagnosis_label\"].str.contains(\"ADHD|Neurotypical\")]\n",
    "\n",
    "print(\"Unique result ids \", metadata[\"experiment_result_id\"].nunique())\n",
    "print(\"Unique diagnosis labels \", metadata[\"diagnosis_label\"].nunique())\n",
    "\n",
    "metadata = metadata.drop_duplicates(subset=\"experiment_result_id\")\n",
    "metadata[\"has_adhd\"] = metadata[\"diagnosis_label\"].apply(\n",
    "    lambda x: 1 if \"ADHD\" in x else (0 if 'Neurotypical' in x else None))\n",
    "\n",
    "metadata = metadata.drop(columns=[\"diagnosis_label\"])\n",
    "data = metadata.merge(traces, on=\"experiment_result_id\")\n",
    "\n",
    "print(data[target].value_counts())"
   ],
   "id": "9b47de95691b6c7",
   "outputs": [],
   "execution_count": null
  },
  {
   "metadata": {},
   "cell_type": "code",
   "source": "data.head()",
   "id": "bf9f4e2f72de7429",
   "outputs": [],
   "execution_count": null
  },
  {
   "metadata": {},
   "cell_type": "code",
   "source": "plot_median(data, 'baselineMedian', 'proto_trial_hash', y_min=-0.1, y_max=0.5)",
   "id": "e0895bf3dffcbf2d",
   "outputs": [],
   "execution_count": null
  },
  {
   "metadata": {},
   "cell_type": "code",
   "source": "",
   "id": "cdfcd86c8bba6ce6",
   "outputs": [],
   "execution_count": null
  }
 ],
 "metadata": {
  "kernelspec": {
   "display_name": "Python 3",
   "language": "python",
   "name": "python3"
  },
  "language_info": {
   "codemirror_mode": {
    "name": "ipython",
    "version": 2
   },
   "file_extension": ".py",
   "mimetype": "text/x-python",
   "name": "python",
   "nbconvert_exporter": "python",
   "pygments_lexer": "ipython2",
   "version": "2.7.6"
  }
 },
 "nbformat": 4,
 "nbformat_minor": 5
}
