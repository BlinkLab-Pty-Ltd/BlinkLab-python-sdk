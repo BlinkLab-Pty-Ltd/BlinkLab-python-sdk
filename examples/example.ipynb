{
 "cells": [
  {
   "cell_type": "code",
   "id": "initial_id",
   "metadata": {
    "collapsed": true
   },
   "source": [
    "input_file = './data/input/traces.csv'\n",
    "output_file = './data/output/output.csv'\n",
    "baseline_length = 1500\n",
    "system_latency = 130\n",
    "\n",
    "command = f\"python3 data_normalization.py {input_file} {output_file} {baseline_length} {system_latency}\"\n",
    "!{command}"
   ],
   "outputs": [],
   "execution_count": null
  },
  {
   "metadata": {},
   "cell_type": "code",
   "source": [
    "import numpy as np\n",
    "import matplotlib.pyplot as plt\n",
    "import pandas as pd\n",
    "\n",
    "\n",
    "def convert_string_to_array(string):\n",
    "    return np.fromstring(string.strip(\"[]\"), sep=',')\n",
    "\n",
    "\n",
    "def build_x_trace(length: int):\n",
    "    MS_PER_FRAME = 1 / 60 * 1000  # milliseconds per frame\n",
    "    return np.arange(0, length * MS_PER_FRAME, MS_PER_FRAME)\n",
    "\n",
    "\n",
    "def plot_median(data, y_column, split_by, y_min=-0.1, y_max=1):\n",
    "    plt.figure(figsize=(20, 4))\n",
    "    plt.ylim(y_min, y_max)\n",
    "    plt.title(y_column)\n",
    "    plot_df = data.copy()\n",
    "    plot_df = plot_df.dropna(subset=[y_column])\n",
    "    plot_df[y_column] = plot_df[y_column].apply(convert_string_to_array)\n",
    "\n",
    "    max_length = max(plot_df[y_column].apply(len))\n",
    "    x_trace = build_x_trace(max_length)\n",
    "\n",
    "    for unique_value, unique_df in plot_df.groupby(split_by):\n",
    "        if not unique_df.empty:\n",
    "            padded_arrays = []\n",
    "            for array in unique_df[y_column]:\n",
    "                padding = max_length - len(array)\n",
    "                padded_array = np.pad(array, (0, padding), 'constant', constant_values=np.NaN)\n",
    "                padded_arrays.append(padded_array)\n",
    "\n",
    "            label = unique_df['label'].iloc[0]\n",
    "            stacked = np.stack(padded_arrays)\n",
    "            median_values = np.nanmedian(stacked, axis=0)\n",
    "            mean_values = np.nanmean(stacked, axis=0)\n",
    "\n",
    "            for eye_trace in padded_arrays:\n",
    "                plt.plot(x_trace, eye_trace, color='lightgray', alpha=0.6)\n",
    "\n",
    "            plt.plot(x_trace, median_values, label=f'Median {label}', linewidth=2)\n",
    "            # plt.plot(x_trace, mean_values, label=f'Mean {label}', linewidth=2)\n",
    "\n",
    "    plt.legend()\n",
    "    plt.show()"
   ],
   "id": "40f6e222ef45c4a7",
   "outputs": [],
   "execution_count": null
  },
  {
   "metadata": {},
   "cell_type": "code",
   "source": [
    "df = pd.read_csv('./data/output/output.csv')\n",
    "\n",
    "print(df.columns.tolist())"
   ],
   "id": "8a78e312695902bf",
   "outputs": [],
   "execution_count": null
  },
  {
   "metadata": {},
   "cell_type": "code",
   "source": [
    "plot_median(df, 'eye_lid_trace_leftEyeTrace', 'proto_trial_hash', y_min=-0.1, y_max=0.4)\n",
    "plot_median(df, 'eye_trace', 'proto_trial_hash', y_min=-0.5, y_max=0.1)\n",
    "plot_median(df, 'interpolated_trace', 'proto_trial_hash', y_min=-0.5, y_max=0.1)\n",
    "plot_median(df, 'filtered_trace', 'proto_trial_hash', y_min=-0.5, y_max=0.1)\n"
   ],
   "id": "fafcb1b37a37219d",
   "outputs": [],
   "execution_count": null
  },
  {
   "metadata": {},
   "cell_type": "code",
   "source": "plot_median(df, 'first_baseline_corrected_trace', 'proto_trial_hash', y_min=-0.3, y_max=0.5)\n",
   "id": "5081a564d24cdd6d",
   "outputs": [],
   "execution_count": null
  },
  {
   "metadata": {},
   "cell_type": "code",
   "source": "plot_median(df, 'normalized_trace', 'proto_trial_hash', y_min=-0.3, y_max=1.2)",
   "id": "5f29511199723ccb",
   "outputs": [],
   "execution_count": null
  },
  {
   "metadata": {},
   "cell_type": "code",
   "source": "plot_median(df, 'baseline_trace', 'proto_trial_hash', y_min=-0.3, y_max=1.2)",
   "id": "afd8243b93a0e534",
   "outputs": [],
   "execution_count": null
  },
  {
   "metadata": {},
   "cell_type": "code",
   "source": "df.info()",
   "id": "530aee4b822940e0",
   "outputs": [],
   "execution_count": null
  },
  {
   "metadata": {},
   "cell_type": "code",
   "source": "df.head(100)",
   "id": "9ddca84fe8f9d890",
   "outputs": [],
   "execution_count": null
  },
  {
   "metadata": {},
   "cell_type": "code",
   "source": "",
   "id": "254cf34930d052ab",
   "outputs": [],
   "execution_count": null
  },
  {
   "metadata": {},
   "cell_type": "code",
   "source": "",
   "id": "36b870ff514f816f",
   "outputs": [],
   "execution_count": null
  }
 ],
 "metadata": {
  "kernelspec": {
   "display_name": "Python 3",
   "language": "python",
   "name": "python3"
  },
  "language_info": {
   "codemirror_mode": {
    "name": "ipython",
    "version": 2
   },
   "file_extension": ".py",
   "mimetype": "text/x-python",
   "name": "python",
   "nbconvert_exporter": "python",
   "pygments_lexer": "ipython2",
   "version": "2.7.6"
  }
 },
 "nbformat": 4,
 "nbformat_minor": 5
}
